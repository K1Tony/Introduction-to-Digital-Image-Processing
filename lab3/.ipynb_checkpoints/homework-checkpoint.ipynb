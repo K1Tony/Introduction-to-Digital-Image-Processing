{
 "cells": [
  {
   "cell_type": "markdown",
   "metadata": {
    "collapsed": false,
    "id": "4Fbe36eKPM0s",
    "jupyter": {
     "outputs_hidden": false
    }
   },
   "source": [
    "## Zadanie domowe: BBHE i DSIHE\n",
    "\n",
    "W klasycznym wyrównywaniu histogramu HE  po wykonaniu operacji jasność obrazu ulega zmianie.\n",
    "Dało się to zaobserwować podczas przeprowadzonych eksperymentów.\n",
    "Jeśli nie to należy uruchomić skrypt z sekcji A i zwrócić na to uwagę.\n",
    "Średnia jasność dąży do środkowego poziomu szarości.\n",
    "Jest to wada i dlatego klasyczne HE ma ograniczone zastosowanie.\n",
    "\n",
    "Powstało sporo metod, które eliminują to niekorzystne zjawisko.\n",
    "Najprostsze z nich polegają na dekompozycji obrazu wejściowego na dwa podobrazy (wg. pewnego kryterium).\n",
    "Następnie operacja HE wykonywana jest dla tych podobrazów.\n",
    "\n",
    "Dwie znane z literatury metody to:\n",
    "- Bi-Histogram Equalization\n",
    "- DSIHE - Dualistic Sub-Image Histogram Equalization\n",
    "\n",
    "W metodzie BBHE za kryterium podziału przyjmuje się średnią jasność w obrazie.\n",
    "W DSIHE obraz dzieli się na dwa podobrazy o takiej samej liczbie pikseli (jaśniejszych i ciemniejszych).\n",
    "\n",
    "W ramach zadania należy zaimplementować wybraną metodę: BBHE lub DSIHE (ew. obie).\n",
    "\n",
    "1. Wczytaj obraz *jet.bmp* i wylicz jego histogram.\n",
    "2. W kolejnym kroku należy wyznaczyć próg podziału obrazu na dwa podobrazy (*lm*).\n",
    "3. Dla BBHE wyznacz średnią jasność obrazu. Dla DSIHE można wykorzystać histogram skumulowany.\n",
    "Należy znaleźć poziom jasności który znajduje się \"w połowie\" histogramu skumulowanego.\n",
    "W tym celu warto stworzyć tablicę, zawierającą moduł histogramu skumulowanego pomniejszonego o połowę liczby pikseli.\n",
    "Następnie znaleźć minimum - `np.argmin`.\n",
    "4. Dalej należy podzielić histogram oryginalnego obrazu na dwa histogramy *H1* i *H2*.\n",
    "Dla każdego z nich wyliczyć histogram skumulowany ($C_1$ i $C_2$) i wykonać normalizację.\n",
    "Normalizacja polega na podzieleniu każdego histogramu przez jego największy element.\n",
    "5. Na podstawie histogramów skumulowanych należy stworzyć przekształcenie LUT.\n",
    "Należy tak przeskalować $C_1$ i $C_2$, aby uzyskać jednorodne przekształcenie.\n",
    "Tablicę $C_1$ wystarczy pomnożyć przez próg podziału.\n",
    "Tablicę $C_2$ należy przeskalować do przedziału: $<lm+1; 255>$, gdzie $lm$ jest progiem podziału.<br>\n",
    "$C_{1n} = (lm)*C1;$<br>\n",
    "$C_{2n} = lm+1 + (255-lm-1)*C2;$<br>\n",
    "Następnie dwie części tablicy przekodowań należy połączyć.\n",
    "6. Ostatecznie należy wykonać operację LUT i wyświetlić wynik wyrównywania histogramu.\n",
    "Porównaj wynik operacji BBHE lub DSIHE z klasycznym HE."
   ]
  },
  {
   "cell_type": "code",
   "execution_count": null,
   "metadata": {
    "id": "c2Q0bFkqPM0v",
    "pycharm": {
     "name": "#%% Zadanie domowe - BBHE\n"
    }
   },
   "outputs": [],
   "source": [
    "import cv2\n",
    "import os\n",
    "import requests\n",
    "from matplotlib import pyplot as plt\n",
    "import numpy as np\n",
    "\n",
    "url = 'https://raw.githubusercontent.com/vision-agh/poc_sw/master/02_Point/'\n",
    "fileName = 'jet.bmp'\n",
    "if not os.path.exists(fileName) :\n",
    "    r = requests.get(url + fileName, allow_redirects=True)\n",
    "    open(fileName, 'wb').write(r.content)"
   ]
  },
  {
   "cell_type": "code",
   "execution_count": null,
   "metadata": {
    "id": "KPTV1fMpPM0y",
    "pycharm": {
     "name": "#%% Zadanie domowe - DSIHE\n"
    }
   },
   "outputs": [],
   "source": [
    "jet = cv2.imread('jet.bmp', cv2.IMREAD_GRAYSCALE)\n",
    "jet_hist = cv2.calcHist([jet], [0], None, [256], [0, 256])\n",
    "\n",
    "cmap = 'gray'\n",
    "\n",
    "fig, (jet_ax, hist_ax) = plt.subplots(1, 2, figsize=(15, 6))\n",
    "jet_ax.imshow(jet, cmap=cmap)\n",
    "jet_ax.axis('off')\n",
    "hist_ax.plot(jet_hist)\n",
    "hist_ax.grid()"
   ]
  },
  {
   "cell_type": "code",
   "execution_count": null,
   "metadata": {},
   "outputs": [],
   "source": [
    "def cumulative_hist(hist):\n",
    "    max_value = hist.max()\n",
    "    cumulative = np.cumsum(hist)\n",
    "    cumulative = cumulative / cumulative.max() * max_value\n",
    "    return cumulative\n",
    "\n",
    "\n",
    "bbhe_mean = jet.mean()\n",
    "cumulative = cumulative_hist(jet_hist)\n",
    "half = cumulative.max() / 2\n",
    "\n",
    "dsihe_arg = np.argmin(np.abs(cumulative - half))\n",
    "plt.plot(jet_hist)\n",
    "plt.plot(cumulative)"
   ]
  },
  {
   "cell_type": "code",
   "execution_count": null,
   "metadata": {},
   "outputs": [],
   "source": [
    "dsihe_hist_1 = jet_hist[:dsihe_arg].copy()\n",
    "dsihe_hist_2 = jet_hist[dsihe_arg:].copy()\n",
    "dsihe_hist_1 /= dsihe_hist_1.max()\n",
    "dsihe_hist_2 /= dsihe_hist_2.max()\n",
    "\n",
    "fig, ((h1, h2), (im1, im2)) = plt.subplots(2, 2, figsize=(15, 15))\n",
    "h1.grid()\n",
    "h2.grid()\n",
    "im1.axis('off')\n",
    "im2.axis('off')\n",
    "\n",
    "h1.plot(dsihe_hist_1)\n",
    "h1.plot(dsihe_c1 := cumulative_hist(dsihe_hist_1))\n",
    "h2.plot(dsihe_hist_2)\n",
    "h2.plot(dsihe_c2 := cumulative_hist(dsihe_hist_2))\n",
    "print(dsihe_arg)\n",
    "dsihe_c1_n = dsihe_c1 * dsihe_arg\n",
    "dsihe_c2_n = dsihe_arg + 1 + (255 - dsihe_arg - 1) * dsihe_c2\n",
    "\n",
    "lut = np.concatenate([dsihe_c1_n, dsihe_c2_n])\n",
    "jet_lut = cv2.LUT(jet, lut)\n",
    "\n",
    "im1.set_title(\"Before\")\n",
    "im1.imshow(jet, cmap=cmap)\n",
    "im2.set_title(\"After\")\n",
    "im2.imshow(jet_lut, cmap=cmap)"
   ]
  },
  {
   "cell_type": "code",
   "execution_count": null,
   "metadata": {},
   "outputs": [],
   "source": [
    "plt.plot(lut)\n",
    "plt.title(\"LUT transformation (C1 + C2)\")\n",
    "plt.grid()"
   ]
  },
  {
   "cell_type": "code",
   "execution_count": null,
   "metadata": {},
   "outputs": [],
   "source": [
    "eq_hist = cv2.equalizeHist(jet)\n",
    "fig, (im1, im2) = plt.subplots(1, 2, figsize=(15, 7))\n",
    "im1.axis('off')\n",
    "im2.axis('off')\n",
    "\n",
    "im1.imshow(eq_hist, cmap=cmap)\n",
    "im1.set_title(\"Equalized hist\")\n",
    "im2.imshow(jet_lut, cmap=cmap)\n",
    "im2.set_title(\"DSIHE\")"
   ]
  }
 ],
 "metadata": {
  "colab": {
   "collapsed_sections": [],
   "provenance": []
  },
  "kernelspec": {
   "display_name": "Python 3 (ipykernel)",
   "language": "python",
   "name": "python3"
  },
  "language_info": {
   "codemirror_mode": {
    "name": "ipython",
    "version": 3
   },
   "file_extension": ".py",
   "mimetype": "text/x-python",
   "name": "python",
   "nbconvert_exporter": "python",
   "pygments_lexer": "ipython3",
   "version": "3.12.2"
  }
 },
 "nbformat": 4,
 "nbformat_minor": 4
}
